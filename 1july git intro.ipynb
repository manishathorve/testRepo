{
 "cells": [
  {
   "cell_type": "code",
   "execution_count": null,
   "id": "b6861845",
   "metadata": {},
   "outputs": [],
   "source": [
    "\n",
    "echo \"# testRepo\" >> README.md\n",
    "git init\n",
    "git add README.md\n",
    "git commit -m \"first commit\"\n",
    "git branch -M main\n",
    "git remote add origin https://github.com/manishathorve/testRepo.git\n",
    "git push -u origin main"
   ]
  },
  {
   "cell_type": "code",
   "execution_count": null,
   "id": "81face0e",
   "metadata": {},
   "outputs": [],
   "source": [
    "git remote add origin https://github.com/manishathorve/testRepo.git\n",
    "git branch -M main\n",
    "git push -u origin main\n"
   ]
  }
 ],
 "metadata": {
  "kernelspec": {
   "display_name": "Python 3 (ipykernel)",
   "language": "python",
   "name": "python3"
  },
  "language_info": {
   "codemirror_mode": {
    "name": "ipython",
    "version": 3
   },
   "file_extension": ".py",
   "mimetype": "text/x-python",
   "name": "python",
   "nbconvert_exporter": "python",
   "pygments_lexer": "ipython3",
   "version": "3.10.9"
  }
 },
 "nbformat": 4,
 "nbformat_minor": 5
}
